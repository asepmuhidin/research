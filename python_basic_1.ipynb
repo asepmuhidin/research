{
  "nbformat": 4,
  "nbformat_minor": 0,
  "metadata": {
    "colab": {
      "provenance": [],
      "authorship_tag": "ABX9TyMzJ8E4P8poFp2J6tAxErdu",
      "include_colab_link": true
    },
    "kernelspec": {
      "name": "python3",
      "display_name": "Python 3"
    },
    "language_info": {
      "name": "python"
    }
  },
  "cells": [
    {
      "cell_type": "markdown",
      "metadata": {
        "id": "view-in-github",
        "colab_type": "text"
      },
      "source": [
        "<a href=\"https://colab.research.google.com/github/asepmuhidin/research/blob/master/python_basic_1.ipynb\" target=\"_parent\"><img src=\"https://colab.research.google.com/assets/colab-badge.svg\" alt=\"Open In Colab\"/></a>"
      ]
    },
    {
      "cell_type": "code",
      "execution_count": 1,
      "metadata": {
        "colab": {
          "base_uri": "https://localhost:8080/"
        },
        "id": "nlyF9u3x5MLS",
        "outputId": "29d567b5-7b8a-482a-d143-a29ca301a5c0"
      },
      "outputs": [
        {
          "output_type": "stream",
          "name": "stdout",
          "text": [
            "Selamat malam\n"
          ]
        }
      ],
      "source": [
        "print('Selamat malam')"
      ]
    },
    {
      "cell_type": "code",
      "source": [
        "#perintah output dengan format\n",
        "nama='Bima'\n",
        "umur=20\n",
        "print('nama {} umur {}'. format(nama,umur))"
      ],
      "metadata": {
        "colab": {
          "base_uri": "https://localhost:8080/"
        },
        "id": "oa4t3AWQ5XE9",
        "outputId": "686abd85-0dad-48ac-cb7a-9492f0e32f95"
      },
      "execution_count": 2,
      "outputs": [
        {
          "output_type": "stream",
          "name": "stdout",
          "text": [
            "nama Bima umur 20\n"
          ]
        }
      ]
    },
    {
      "cell_type": "code",
      "source": [
        "#perintah output dengan f print\n",
        "nama='Bima'\n",
        "umur=20\n",
        "print(f'nama {nama} umur {umur}')"
      ],
      "metadata": {
        "colab": {
          "base_uri": "https://localhost:8080/"
        },
        "id": "dbyF-lhZ50i7",
        "outputId": "ec346a82-c7d3-487f-d1c1-3945adfa1f20"
      },
      "execution_count": 3,
      "outputs": [
        {
          "output_type": "stream",
          "name": "stdout",
          "text": [
            "nama Bima umur 20\n"
          ]
        }
      ]
    },
    {
      "cell_type": "code",
      "source": [
        "#perintah output dengan format angka\n",
        "nama='Bima'\n",
        "nilai=87.5868\n",
        "print(f'nama {nama} nilai {nilai:.2f}')"
      ],
      "metadata": {
        "colab": {
          "base_uri": "https://localhost:8080/"
        },
        "id": "2CJ1NnUR6NzE",
        "outputId": "4aec1b47-9586-4113-a676-365b89e45345"
      },
      "execution_count": 6,
      "outputs": [
        {
          "output_type": "stream",
          "name": "stdout",
          "text": [
            "nama Bima nilai 87.59\n"
          ]
        }
      ]
    },
    {
      "cell_type": "code",
      "source": [
        "nama='Bima'\n",
        "nilai=98.8765\n",
        "grade='A'\n",
        "print(f'nama mahasiswa {nama} dengan nilai angka {nilai:.1f}, dan nilai hurup adalah {grade}')\n",
        "#output yg diharapkan\n",
        "# nama mahsiswa bima dengan nilai angka 98.9, dan nilai hurup adalah A"
      ],
      "metadata": {
        "colab": {
          "base_uri": "https://localhost:8080/"
        },
        "id": "XfuSJ0q66ui2",
        "outputId": "3ecfcb50-c837-46b0-cd8a-a52f49058558"
      },
      "execution_count": 8,
      "outputs": [
        {
          "output_type": "stream",
          "name": "stdout",
          "text": [
            "nama mahasiswa Bima dengan nilai angka 98.9, dan nilai hurup adalah A\n"
          ]
        }
      ]
    },
    {
      "cell_type": "code",
      "source": [
        "nama=input('Nama Mahasiswa ?')\n",
        "nilai=input('Nilai Mahasiswa ?')\n",
        "grade=input('Nilai hurup Mahasiswa ?')\n",
        "print(f'nama mahasiswa {nama} dengan nilai angka {float(nilai):.1f}, dan nilai hurup adalah {grade}')"
      ],
      "metadata": {
        "colab": {
          "base_uri": "https://localhost:8080/"
        },
        "id": "KQIXxA8L9HyD",
        "outputId": "e3271f54-e9da-4d5b-cdcf-057d6c3a7817"
      },
      "execution_count": 11,
      "outputs": [
        {
          "output_type": "stream",
          "name": "stdout",
          "text": [
            "Nama Mahasiswa ?irfan\n",
            "Nilai Mahasiswa ?98.8776\n",
            "Nilai hurup Mahasiswa ?A\n",
            "nama mahasiswa irfan dengan nilai angka 98.9, dan nilai hurup adalah A\n"
          ]
        }
      ]
    },
    {
      "cell_type": "code",
      "source": [
        "#perintah pengisian beberapa variabel sekaligus\n",
        "nama,nilai='Bima',87.5868\n",
        "print(f'nama {nama} nilai {nilai:.2f}')"
      ],
      "metadata": {
        "colab": {
          "base_uri": "https://localhost:8080/"
        },
        "id": "IkltwFBO-Z7H",
        "outputId": "339ff467-639a-40ea-f9e9-c4ee0a8044a3"
      },
      "execution_count": 12,
      "outputs": [
        {
          "output_type": "stream",
          "name": "stdout",
          "text": [
            "nama Bima nilai 87.59\n"
          ]
        }
      ]
    },
    {
      "cell_type": "code",
      "source": [
        "#if dengan 2 kondisi \n",
        "nama,nilai='Bima',37.5868\n",
        "\n",
        "if nilai>=50:\n",
        "  ket='Lulus'\n",
        "else:\n",
        "  ket='Tidak Lulus'   \n",
        "print(f'nama {nama} nilai {nilai:.2f}, keterangan : {ket}')"
      ],
      "metadata": {
        "colab": {
          "base_uri": "https://localhost:8080/"
        },
        "id": "a8ww_Vam-hAe",
        "outputId": "d9e60c2d-b40d-41e3-8b84-6e9feae394dd"
      },
      "execution_count": 16,
      "outputs": [
        {
          "output_type": "stream",
          "name": "stdout",
          "text": [
            "nama Bima nilai 37.59, keterangan : Tidak Lulus\n"
          ]
        }
      ]
    },
    {
      "cell_type": "code",
      "source": [
        "#if dengan lebih dari 2 kondisi \n",
        "nama,nilai='Bima',77.5868\n",
        "\n",
        "if nilai>=85:\n",
        "  ket='A'\n",
        "elif nilai>=70:\n",
        "  ket='B'\n",
        "elif nilai>=50:\n",
        "  ket='C'\n",
        "elif nilai>=40:\n",
        "  ket='D'\n",
        "else:\n",
        "  ket='E'\n",
        "\n",
        "print(f'nama {nama} nilai {nilai:.2f}, keterangan : {ket}')"
      ],
      "metadata": {
        "colab": {
          "base_uri": "https://localhost:8080/"
        },
        "id": "MLunJNZl_Lfu",
        "outputId": "4d582a18-7a0c-4238-dac0-b69060adb150"
      },
      "execution_count": 18,
      "outputs": [
        {
          "output_type": "stream",
          "name": "stdout",
          "text": [
            "nama Bima nilai 77.59, keterangan : B\n"
          ]
        }
      ]
    },
    {
      "cell_type": "code",
      "source": [
        "#loop \n",
        "for i in range(10):\n",
        "  print(i, end=',')\n",
        "\n",
        "print('\\n')\n",
        "#loop custom range(start,end,step), default step=1  \n",
        "for i in range(2,10):\n",
        "  print(i, end=',')\n",
        "\n",
        "print('\\n')\n",
        "#loop custom range(start,end,step)  \n",
        "for i in range(2,20,2):\n",
        "  print(i, end=',')"
      ],
      "metadata": {
        "colab": {
          "base_uri": "https://localhost:8080/"
        },
        "id": "mvtNBQH0AL0V",
        "outputId": "094ce3f0-2427-4a46-f52a-c373c42d4aba"
      },
      "execution_count": 24,
      "outputs": [
        {
          "output_type": "stream",
          "name": "stdout",
          "text": [
            "0,1,2,3,4,5,6,7,8,9,\n",
            "\n",
            "2,3,4,5,6,7,8,9,\n",
            "\n",
            "2,4,6,8,10,12,14,16,18,"
          ]
        }
      ]
    },
    {
      "cell_type": "code",
      "source": [
        "#list\n",
        "print('===AKSES ITEM LIST======')\n",
        "names=['dicky','fridolin','niko','rahmadi']\n",
        "print(f'nama {names[1]}')\n",
        "print('=======SLICING LIST===========')\n",
        "#Slicing\n",
        "print(f'nama {names[:3]}') #menampilkan data list dari index awal sampai index 3 exlusive\n",
        "print(f'nama {names[1:]}') #menampilkan data index1 sampai index akhir\n",
        "print(f'nama {names[1:3]}') #menampilkan data list dari index 1 sampai index 3 exlusive\n",
        "print('=========LOOP MANUAL===========')\n",
        "#Menampilkan semua item list secara manual\n",
        "for i in range(len(names)):\n",
        "  print(names[i])\n",
        "print('=========LOOP LIST===========')\n",
        "#Menampilkan semua item list\n",
        "for name in (names):\n",
        "  print(name)"
      ],
      "metadata": {
        "colab": {
          "base_uri": "https://localhost:8080/"
        },
        "id": "F1mOhYFlAr3Q",
        "outputId": "01a86e74-f94a-4eaf-f3e5-211d36db1fcf"
      },
      "execution_count": 36,
      "outputs": [
        {
          "output_type": "stream",
          "name": "stdout",
          "text": [
            "===AKSES ITEM LIST======\n",
            "nama fridolin\n",
            "=======SLICING LIST===========\n",
            "nama ['dicky', 'fridolin', 'niko']\n",
            "nama ['fridolin', 'niko', 'rahmadi']\n",
            "nama ['fridolin', 'niko']\n",
            "=========LOOP MANUAL===========\n",
            "dicky\n",
            "fridolin\n",
            "niko\n",
            "rahmadi\n",
            "=========LOOP LIST===========\n",
            "dicky\n",
            "fridolin\n",
            "niko\n",
            "rahmadi\n"
          ]
        }
      ]
    },
    {
      "cell_type": "code",
      "source": [
        "#dict : {key1:value1,key2:value,key-n:value-n, }\n",
        "data_niko={'nama':'Niko','nilai':98,'umur':20}\n",
        "print(f\"Nama {data_niko['nama']}, nilai {data_niko['nilai']} , umur {data_niko['umur']}\")"
      ],
      "metadata": {
        "colab": {
          "base_uri": "https://localhost:8080/"
        },
        "id": "cZWh7jLBD37e",
        "outputId": "3314ffcc-fdd0-497e-bd8a-029c026e7acf"
      },
      "execution_count": 37,
      "outputs": [
        {
          "output_type": "stream",
          "name": "stdout",
          "text": [
            "Nama Niko, nilai 98 , umur 20\n"
          ]
        }
      ]
    }
  ]
}