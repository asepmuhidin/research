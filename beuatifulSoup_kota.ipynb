{
  "nbformat": 4,
  "nbformat_minor": 0,
  "metadata": {
    "colab": {
      "name": "beuatifulSoup_kota.ipynb",
      "provenance": [],
      "authorship_tag": "ABX9TyNVR5CFfAQ8FhlqVJhyY49g",
      "include_colab_link": true
    },
    "kernelspec": {
      "name": "python3",
      "display_name": "Python 3"
    }
  },
  "cells": [
    {
      "cell_type": "markdown",
      "metadata": {
        "id": "view-in-github",
        "colab_type": "text"
      },
      "source": [
        "<a href=\"https://colab.research.google.com/github/asepmuhidin/research/blob/master/beuatifulSoup_kota.ipynb\" target=\"_parent\"><img src=\"https://colab.research.google.com/assets/colab-badge.svg\" alt=\"Open In Colab\"/></a>"
      ]
    },
    {
      "cell_type": "markdown",
      "metadata": {
        "id": "QzslEuaDfZ5h"
      },
      "source": [
        "# Beautiful Soup (Membuat Dataset nama Kota, Luas Daerah, Jumlah Penduduk, dll dari Halaman Wikipedia)\n",
        "### Created by  : Asep Muhidin, UPB 102020"
      ]
    },
    {
      "cell_type": "code",
      "metadata": {
        "id": "0rnu6AZVfV2w"
      },
      "source": [
        "## import beaurtifulsoap dari bs4 dan requests\n",
        "from bs4 import BeautifulSoup as bs\n",
        "import requests"
      ],
      "execution_count": null,
      "outputs": []
    },
    {
      "cell_type": "code",
      "metadata": {
        "id": "V8ox_NKhf_58"
      },
      "source": [
        "#ambil halaman web dari https://id.wikipedia.org/wiki/Daftar_kota_di_Indonesia_menurut_luas_wilayah\n",
        "url=\"https://id.wikipedia.org/wiki/Daftar_kota_di_Indonesia_menurut_luas_wilayah\"\n",
        "req=requests.get(url)"
      ],
      "execution_count": null,
      "outputs": []
    },
    {
      "cell_type": "code",
      "metadata": {
        "id": "-mMzd0mKk3Py"
      },
      "source": [
        "#convert menjadi objek bs\n",
        "bs_data=bs(req.content)\n",
        "\n",
        "#ambil bagian tabel dengan class=\"wikitable\"\n",
        "table_info=bs_data.find(class_=\"wikitable\")\n",
        "link_info=table_info.find_all('a')\n",
        "#untuk mendapatkan value dari attribut, gunakan method get() \n",
        "##info=link_info[0].get('title')\n",
        "kota,url=[],[]\n",
        "for link in link_info:\n",
        "  kota.append(link.get('title'))\n",
        "  url.append(link.get('href'))"
      ],
      "execution_count": null,
      "outputs": []
    },
    {
      "cell_type": "code",
      "metadata": {
        "id": "0RXMSydSpqaq"
      },
      "source": [
        "##jadikan data dict\n",
        "dic_kota={'kota':kota,'url':url}"
      ],
      "execution_count": null,
      "outputs": []
    },
    {
      "cell_type": "code",
      "metadata": {
        "id": "PadL1nJ3qhgI",
        "outputId": "c6bf8414-6381-44d3-d5e1-c068ea7303c2",
        "colab": {
          "base_uri": "https://localhost:8080/",
          "height": 419
        }
      },
      "source": [
        "import pandas as pd\n",
        "df_kota=pd.DataFrame(dic_kota)\n",
        "df_kota"
      ],
      "execution_count": null,
      "outputs": [
        {
          "output_type": "execute_result",
          "data": {
            "text/html": [
              "<div>\n",
              "<style scoped>\n",
              "    .dataframe tbody tr th:only-of-type {\n",
              "        vertical-align: middle;\n",
              "    }\n",
              "\n",
              "    .dataframe tbody tr th {\n",
              "        vertical-align: top;\n",
              "    }\n",
              "\n",
              "    .dataframe thead th {\n",
              "        text-align: right;\n",
              "    }\n",
              "</style>\n",
              "<table border=\"1\" class=\"dataframe\">\n",
              "  <thead>\n",
              "    <tr style=\"text-align: right;\">\n",
              "      <th></th>\n",
              "      <th>kota</th>\n",
              "      <th>url</th>\n",
              "    </tr>\n",
              "  </thead>\n",
              "  <tbody>\n",
              "    <tr>\n",
              "      <th>0</th>\n",
              "      <td>Palangka Raya</td>\n",
              "      <td>/wiki/Palangka_Raya</td>\n",
              "    </tr>\n",
              "    <tr>\n",
              "      <th>1</th>\n",
              "      <td>Kalimantan Tengah</td>\n",
              "      <td>/wiki/Kalimantan_Tengah</td>\n",
              "    </tr>\n",
              "    <tr>\n",
              "      <th>2</th>\n",
              "      <td>Dumai</td>\n",
              "      <td>/wiki/Dumai</td>\n",
              "    </tr>\n",
              "    <tr>\n",
              "      <th>3</th>\n",
              "      <td>Riau</td>\n",
              "      <td>/wiki/Riau</td>\n",
              "    </tr>\n",
              "    <tr>\n",
              "      <th>4</th>\n",
              "      <td>Kota Tidore Kepulauan</td>\n",
              "      <td>/wiki/Kota_Tidore_Kepulauan</td>\n",
              "    </tr>\n",
              "    <tr>\n",
              "      <th>...</th>\n",
              "      <td>...</td>\n",
              "      <td>...</td>\n",
              "    </tr>\n",
              "    <tr>\n",
              "      <th>191</th>\n",
              "      <td>Sumatra Barat</td>\n",
              "      <td>/wiki/Sumatra_Barat</td>\n",
              "    </tr>\n",
              "    <tr>\n",
              "      <th>192</th>\n",
              "      <td>Magelang</td>\n",
              "      <td>/wiki/Magelang</td>\n",
              "    </tr>\n",
              "    <tr>\n",
              "      <th>193</th>\n",
              "      <td>Jawa Tengah</td>\n",
              "      <td>/wiki/Jawa_Tengah</td>\n",
              "    </tr>\n",
              "    <tr>\n",
              "      <th>194</th>\n",
              "      <td>Mojokerto</td>\n",
              "      <td>/wiki/Mojokerto</td>\n",
              "    </tr>\n",
              "    <tr>\n",
              "      <th>195</th>\n",
              "      <td>Jawa Timur</td>\n",
              "      <td>/wiki/Jawa_Timur</td>\n",
              "    </tr>\n",
              "  </tbody>\n",
              "</table>\n",
              "<p>196 rows × 2 columns</p>\n",
              "</div>"
            ],
            "text/plain": [
              "                      kota                          url\n",
              "0            Palangka Raya          /wiki/Palangka_Raya\n",
              "1        Kalimantan Tengah      /wiki/Kalimantan_Tengah\n",
              "2                    Dumai                  /wiki/Dumai\n",
              "3                     Riau                   /wiki/Riau\n",
              "4    Kota Tidore Kepulauan  /wiki/Kota_Tidore_Kepulauan\n",
              "..                     ...                          ...\n",
              "191          Sumatra Barat          /wiki/Sumatra_Barat\n",
              "192               Magelang               /wiki/Magelang\n",
              "193            Jawa Tengah            /wiki/Jawa_Tengah\n",
              "194              Mojokerto              /wiki/Mojokerto\n",
              "195             Jawa Timur             /wiki/Jawa_Timur\n",
              "\n",
              "[196 rows x 2 columns]"
            ]
          },
          "metadata": {
            "tags": []
          },
          "execution_count": 26
        }
      ]
    }
  ]
}